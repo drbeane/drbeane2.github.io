{
 "cells": [
  {
   "cell_type": "code",
   "execution_count": 1,
   "metadata": {},
   "outputs": [
    {
     "data": {
      "application/vnd.jupyter.widget-view+json": {
       "model_id": "f2d733946df341b182d1aecfe1d19fe7",
       "version_major": 2,
       "version_minor": 0
      },
      "text/plain": [
       "A Jupyter Widget"
      ]
     },
     "metadata": {},
     "output_type": "display_data"
    }
   ],
   "source": [
    "import ipywidgets as widgets\n",
    "import matplotlib.pyplot as plt\n",
    "from scipy.stats import binom\n",
    "\n",
    "def binom_dist(p, n):\n",
    "    prob = []\n",
    "    for i in range(n+1):\n",
    "        prob.append(binom.pmf(i, n, p))\n",
    "    \n",
    "    plt.close()\n",
    "    plt.bar(range(n+1), prob)\n",
    "    plt.show()\n",
    "    \n",
    "_ = widgets.interact(binom_dist,\n",
    "                     p=widgets.FloatSlider(min=0,max=1,step=0.05,value=0.2,continuous_update=False),\n",
    "                     n=widgets.IntSlider(min=5,max=60,step=5,value=5,continuous_update=False))"
   ]
  }
 ],
 "metadata": {
  "kernelspec": {
   "display_name": "Python 3",
   "language": "python",
   "name": "python3"
  },
  "language_info": {
   "codemirror_mode": {
    "name": "ipython",
    "version": 3
   },
   "file_extension": ".py",
   "mimetype": "text/x-python",
   "name": "python",
   "nbconvert_exporter": "python",
   "pygments_lexer": "ipython3",
   "version": "3.6.2"
  },
  "widgets": {
   "application/vnd.jupyter.widget-state+json": {
    "state": {
     "004f74f4382f464f93638bc0ec04b1ff": {
      "model_module": "@jupyter-widgets/controls",
      "model_module_version": "1.0.0",
      "model_name": "FloatSliderModel",
      "state": {
       "continuous_update": false,
       "description": "p",
       "layout": "IPY_MODEL_9cf50aac260e4e59b1d9125e5b043a93",
       "max": 1,
       "step": 0.05,
       "style": "IPY_MODEL_6886ac55a7b543cca9319a65c229f16f",
       "value": 0.2
      }
     },
     "0fef47ec12b2419286329cceeca861f4": {
      "model_module": "@jupyter-widgets/output",
      "model_module_version": "1.0.0",
      "model_name": "OutputModel",
      "state": {
       "layout": "IPY_MODEL_69556003b59a40d886af8203294773ed",
       "outputs": [
        {
         "data": {
          "image/png": "iVBORw0KGgoAAAANSUhEUgAAAYQAAAD8CAYAAAB3u9PLAAAABHNCSVQICAgIfAhkiAAAAAlwSFlz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\nrkJggg==\n",
          "text/plain": "<matplotlib.figure.Figure at 0x1b3ec299a20>"
         },
         "metadata": {},
         "output_type": "display_data"
        }
       ]
      }
     },
     "157af82fbd12434197e55adcfab288f9": {
      "model_module": "@jupyter-widgets/controls",
      "model_module_version": "1.0.0",
      "model_name": "IntSliderModel",
      "state": {
       "continuous_update": false,
       "description": "n",
       "layout": "IPY_MODEL_4f3ae60754b8476bb5a664a35a560c99",
       "max": 60,
       "min": 5,
       "step": 5,
       "style": "IPY_MODEL_c03215abf9804c7e994ba03269451fe0",
       "value": 5
      }
     },
     "1e7cacebaa0b4ff38346c50972a16381": {
      "model_module": "@jupyter-widgets/controls",
      "model_module_version": "1.0.0",
      "model_name": "SliderStyleModel",
      "state": {
       "description_width": ""
      }
     },
     "2114a5db87ee49679db9af0e21cea3bd": {
      "model_module": "@jupyter-widgets/base",
      "model_module_version": "1.0.0",
      "model_name": "LayoutModel",
      "state": {}
     },
     "257728d8203e4755a0412cf7c742f8b2": {
      "model_module": "@jupyter-widgets/output",
      "model_module_version": "1.0.0",
      "model_name": "OutputModel",
      "state": {
       "layout": "IPY_MODEL_2e1e021cd3f54216b45d09896df2870a",
       "outputs": [
        {
         "data": {
          "image/png": "iVBORw0KGgoAAAANSUhEUgAAAX0AAAD8CAYAAACb4nSYAAAABHNCSVQICAgIfAhkiAAAAAlwSFlz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\n9CWpIYa+JDXk/wND1a+3//XDhAAAAABJRU5ErkJggg==\n",
          "text/plain": "<matplotlib.figure.Figure at 0x1b3ec89bf28>"
         },
         "metadata": {},
         "output_type": "display_data"
        }
       ]
      }
     },
     "2c8e6b0ac7ea43b5974d949589b2bc5c": {
      "model_module": "@jupyter-widgets/controls",
      "model_module_version": "1.0.0",
      "model_name": "FloatSliderModel",
      "state": {
       "continuous_update": false,
       "description": "p",
       "layout": "IPY_MODEL_a1eec58856ff4a21901fd2cd85621c74",
       "max": 1,
       "step": 0.05,
       "style": "IPY_MODEL_f89c778e1f6647f896b09ab346baf577",
       "value": 0.15
      }
     },
     "2e1e021cd3f54216b45d09896df2870a": {
      "model_module": "@jupyter-widgets/base",
      "model_module_version": "1.0.0",
      "model_name": "LayoutModel",
      "state": {}
     },
     "30dfebf7d0104efc8d021c061fd4120c": {
      "model_module": "@jupyter-widgets/output",
      "model_module_version": "1.0.0",
      "model_name": "OutputModel",
      "state": {
       "layout": "IPY_MODEL_97e39f7dad524baebe2e60ebbeda54ef",
       "outputs": [
        {
         "data": {
          "image/png": "iVBORw0KGgoAAAANSUhEUgAAAX0AAAD8CAYAAACb4nSYAAAABHNCSVQICAgIfAhkiAAAAAlwSFlz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\n9CWpIYa+JDXk/wND1a+3//XDhAAAAABJRU5ErkJggg==\n",
          "text/plain": "<matplotlib.figure.Figure at 0x10d621b65c0>"
         },
         "metadata": {},
         "output_type": "display_data"
        }
       ]
      }
     },
     "4f3ae60754b8476bb5a664a35a560c99": {
      "model_module": "@jupyter-widgets/base",
      "model_module_version": "1.0.0",
      "model_name": "LayoutModel",
      "state": {}
     },
     "6249427172df4f229add1b94c2d164d3": {
      "model_module": "@jupyter-widgets/controls",
      "model_module_version": "1.0.0",
      "model_name": "SliderStyleModel",
      "state": {
       "description_width": ""
      }
     },
     "68165f2d2c0e4ca7bf3fe68d9eb811ab": {
      "model_module": "@jupyter-widgets/controls",
      "model_module_version": "1.0.0",
      "model_name": "SliderStyleModel",
      "state": {
       "description_width": ""
      }
     },
     "6886ac55a7b543cca9319a65c229f16f": {
      "model_module": "@jupyter-widgets/controls",
      "model_module_version": "1.0.0",
      "model_name": "SliderStyleModel",
      "state": {
       "description_width": ""
      }
     },
     "69556003b59a40d886af8203294773ed": {
      "model_module": "@jupyter-widgets/base",
      "model_module_version": "1.0.0",
      "model_name": "LayoutModel",
      "state": {}
     },
     "6d5e429e305e4b89a2414ba23a31a906": {
      "model_module": "@jupyter-widgets/controls",
      "model_module_version": "1.0.0",
      "model_name": "VBoxModel",
      "state": {
       "_dom_classes": [
        "widget-interact"
       ],
       "children": [
        "IPY_MODEL_dac12ea5e9274d53bc25a233820a0880",
        "IPY_MODEL_a0bd329f9fde4c9fa0b51b99358a1089",
        "IPY_MODEL_fa42b1be6ba44f9d8087204648220bc4"
       ],
       "layout": "IPY_MODEL_c931eb4a52ed474e985bcacc75949d3b"
      }
     },
     "6eca722c69e14316ab153254c998b568": {
      "model_module": "@jupyter-widgets/controls",
      "model_module_version": "1.0.0",
      "model_name": "SliderStyleModel",
      "state": {
       "description_width": ""
      }
     },
     "71c76e0b56f84fa79ed326c552f4353e": {
      "model_module": "@jupyter-widgets/base",
      "model_module_version": "1.0.0",
      "model_name": "LayoutModel",
      "state": {}
     },
     "7632543d967a4b15bb08fa7fbf419d12": {
      "model_module": "@jupyter-widgets/controls",
      "model_module_version": "1.0.0",
      "model_name": "FloatSliderModel",
      "state": {
       "continuous_update": false,
       "description": "p",
       "layout": "IPY_MODEL_71c76e0b56f84fa79ed326c552f4353e",
       "max": 1,
       "step": 0.05,
       "style": "IPY_MODEL_6249427172df4f229add1b94c2d164d3",
       "value": 0.2
      }
     },
     "79c4dbe00e4648cdaceb6d1012ff7d4a": {
      "model_module": "@jupyter-widgets/controls",
      "model_module_version": "1.0.0",
      "model_name": "VBoxModel",
      "state": {
       "_dom_classes": [
        "widget-interact"
       ],
       "children": [
        "IPY_MODEL_7632543d967a4b15bb08fa7fbf419d12",
        "IPY_MODEL_a95a462c18084204b0a4008ce1134612",
        "IPY_MODEL_257728d8203e4755a0412cf7c742f8b2"
       ],
       "layout": "IPY_MODEL_d1be0d7999f14e849a3434e645c68e3b"
      }
     },
     "7ab99b88d7224cf392e0c954a6e34053": {
      "model_module": "@jupyter-widgets/controls",
      "model_module_version": "1.0.0",
      "model_name": "VBoxModel",
      "state": {
       "_dom_classes": [
        "widget-interact"
       ],
       "children": [
        "IPY_MODEL_2c8e6b0ac7ea43b5974d949589b2bc5c",
        "IPY_MODEL_d86bdf1bf0bd4ff49b25b7eb6a7ce17a",
        "IPY_MODEL_0fef47ec12b2419286329cceeca861f4"
       ],
       "layout": "IPY_MODEL_fffa8fc210004395b6ca32c11c8a3de0"
      }
     },
     "97e39f7dad524baebe2e60ebbeda54ef": {
      "model_module": "@jupyter-widgets/base",
      "model_module_version": "1.0.0",
      "model_name": "LayoutModel",
      "state": {}
     },
     "9cf50aac260e4e59b1d9125e5b043a93": {
      "model_module": "@jupyter-widgets/base",
      "model_module_version": "1.0.0",
      "model_name": "LayoutModel",
      "state": {}
     },
     "a0bd329f9fde4c9fa0b51b99358a1089": {
      "model_module": "@jupyter-widgets/controls",
      "model_module_version": "1.0.0",
      "model_name": "IntSliderModel",
      "state": {
       "continuous_update": false,
       "description": "n",
       "layout": "IPY_MODEL_c37960ec23764354aefd15d4b17d7397",
       "max": 60,
       "min": 5,
       "step": 5,
       "style": "IPY_MODEL_1e7cacebaa0b4ff38346c50972a16381",
       "value": 5
      }
     },
     "a1eec58856ff4a21901fd2cd85621c74": {
      "model_module": "@jupyter-widgets/base",
      "model_module_version": "1.0.0",
      "model_name": "LayoutModel",
      "state": {}
     },
     "a95a462c18084204b0a4008ce1134612": {
      "model_module": "@jupyter-widgets/controls",
      "model_module_version": "1.0.0",
      "model_name": "IntSliderModel",
      "state": {
       "continuous_update": false,
       "description": "n",
       "layout": "IPY_MODEL_df336aeda0e74074826a035489dfd94c",
       "max": 60,
       "min": 5,
       "step": 5,
       "style": "IPY_MODEL_6eca722c69e14316ab153254c998b568",
       "value": 5
      }
     },
     "c03215abf9804c7e994ba03269451fe0": {
      "model_module": "@jupyter-widgets/controls",
      "model_module_version": "1.0.0",
      "model_name": "SliderStyleModel",
      "state": {
       "description_width": ""
      }
     },
     "c37960ec23764354aefd15d4b17d7397": {
      "model_module": "@jupyter-widgets/base",
      "model_module_version": "1.0.0",
      "model_name": "LayoutModel",
      "state": {}
     },
     "c931eb4a52ed474e985bcacc75949d3b": {
      "model_module": "@jupyter-widgets/base",
      "model_module_version": "1.0.0",
      "model_name": "LayoutModel",
      "state": {}
     },
     "cfd9ab6a573b4a30b558ea11a5f1a993": {
      "model_module": "@jupyter-widgets/base",
      "model_module_version": "1.0.0",
      "model_name": "LayoutModel",
      "state": {}
     },
     "d1be0d7999f14e849a3434e645c68e3b": {
      "model_module": "@jupyter-widgets/base",
      "model_module_version": "1.0.0",
      "model_name": "LayoutModel",
      "state": {}
     },
     "d2509e9db575461888faa6934cf1e08e": {
      "model_module": "@jupyter-widgets/base",
      "model_module_version": "1.0.0",
      "model_name": "LayoutModel",
      "state": {}
     },
     "d86bdf1bf0bd4ff49b25b7eb6a7ce17a": {
      "model_module": "@jupyter-widgets/controls",
      "model_module_version": "1.0.0",
      "model_name": "IntSliderModel",
      "state": {
       "continuous_update": false,
       "description": "n",
       "layout": "IPY_MODEL_2114a5db87ee49679db9af0e21cea3bd",
       "max": 60,
       "min": 5,
       "step": 5,
       "style": "IPY_MODEL_68165f2d2c0e4ca7bf3fe68d9eb811ab",
       "value": 35
      }
     },
     "dac12ea5e9274d53bc25a233820a0880": {
      "model_module": "@jupyter-widgets/controls",
      "model_module_version": "1.0.0",
      "model_name": "FloatSliderModel",
      "state": {
       "continuous_update": false,
       "description": "p",
       "layout": "IPY_MODEL_d2509e9db575461888faa6934cf1e08e",
       "max": 1,
       "step": 0.05,
       "style": "IPY_MODEL_fe6303e026f0447c8e2b1f802d8c1918",
       "value": 0.2
      }
     },
     "df336aeda0e74074826a035489dfd94c": {
      "model_module": "@jupyter-widgets/base",
      "model_module_version": "1.0.0",
      "model_name": "LayoutModel",
      "state": {}
     },
     "f2d733946df341b182d1aecfe1d19fe7": {
      "model_module": "@jupyter-widgets/controls",
      "model_module_version": "1.0.0",
      "model_name": "VBoxModel",
      "state": {
       "_dom_classes": [
        "widget-interact"
       ],
       "children": [
        "IPY_MODEL_004f74f4382f464f93638bc0ec04b1ff",
        "IPY_MODEL_157af82fbd12434197e55adcfab288f9",
        "IPY_MODEL_30dfebf7d0104efc8d021c061fd4120c"
       ],
       "layout": "IPY_MODEL_cfd9ab6a573b4a30b558ea11a5f1a993"
      }
     },
     "f89c778e1f6647f896b09ab346baf577": {
      "model_module": "@jupyter-widgets/controls",
      "model_module_version": "1.0.0",
      "model_name": "SliderStyleModel",
      "state": {
       "description_width": ""
      }
     },
     "fa42b1be6ba44f9d8087204648220bc4": {
      "model_module": "@jupyter-widgets/output",
      "model_module_version": "1.0.0",
      "model_name": "OutputModel",
      "state": {
       "layout": "IPY_MODEL_fb883ab64eeb4dffbaad079ea447656d",
       "outputs": [
        {
         "ename": "NameError",
         "evalue": "name 'probs' is not defined",
         "output_type": "error",
         "traceback": [
          "\u001b[1;31m---------------------------------------------------------------------------\u001b[0m",
          "\u001b[1;31mNameError\u001b[0m                                 Traceback (most recent call last)",
          "\u001b[1;32m~\\Anaconda3\\lib\\site-packages\\ipywidgets\\widgets\\interaction.py\u001b[0m in \u001b[0;36mupdate\u001b[1;34m(self, *args)\u001b[0m\n\u001b[0;32m    248\u001b[0m                     \u001b[0mvalue\u001b[0m \u001b[1;33m=\u001b[0m \u001b[0mwidget\u001b[0m\u001b[1;33m.\u001b[0m\u001b[0mget_interact_value\u001b[0m\u001b[1;33m(\u001b[0m\u001b[1;33m)\u001b[0m\u001b[1;33m\u001b[0m\u001b[0m\n\u001b[0;32m    249\u001b[0m                     \u001b[0mself\u001b[0m\u001b[1;33m.\u001b[0m\u001b[0mkwargs\u001b[0m\u001b[1;33m[\u001b[0m\u001b[0mwidget\u001b[0m\u001b[1;33m.\u001b[0m\u001b[0m_kwarg\u001b[0m\u001b[1;33m]\u001b[0m \u001b[1;33m=\u001b[0m \u001b[0mvalue\u001b[0m\u001b[1;33m\u001b[0m\u001b[0m\n\u001b[1;32m--> 250\u001b[1;33m                 \u001b[0mself\u001b[0m\u001b[1;33m.\u001b[0m\u001b[0mresult\u001b[0m \u001b[1;33m=\u001b[0m \u001b[0mself\u001b[0m\u001b[1;33m.\u001b[0m\u001b[0mf\u001b[0m\u001b[1;33m(\u001b[0m\u001b[1;33m**\u001b[0m\u001b[0mself\u001b[0m\u001b[1;33m.\u001b[0m\u001b[0mkwargs\u001b[0m\u001b[1;33m)\u001b[0m\u001b[1;33m\u001b[0m\u001b[0m\n\u001b[0m\u001b[0;32m    251\u001b[0m                 \u001b[0mshow_inline_matplotlib_plots\u001b[0m\u001b[1;33m(\u001b[0m\u001b[1;33m)\u001b[0m\u001b[1;33m\u001b[0m\u001b[0m\n\u001b[0;32m    252\u001b[0m                 \u001b[1;32mif\u001b[0m \u001b[0mself\u001b[0m\u001b[1;33m.\u001b[0m\u001b[0mauto_display\u001b[0m \u001b[1;32mand\u001b[0m \u001b[0mself\u001b[0m\u001b[1;33m.\u001b[0m\u001b[0mresult\u001b[0m \u001b[1;32mis\u001b[0m \u001b[1;32mnot\u001b[0m \u001b[1;32mNone\u001b[0m\u001b[1;33m:\u001b[0m\u001b[1;33m\u001b[0m\u001b[0m\n",
          "\u001b[1;32m<ipython-input-2-8b183679422e>\u001b[0m in \u001b[0;36mbinom_dist\u001b[1;34m(p, n)\u001b[0m\n\u001b[0;32m      9\u001b[0m \u001b[1;33m\u001b[0m\u001b[0m\n\u001b[0;32m     10\u001b[0m     \u001b[0mplt\u001b[0m\u001b[1;33m.\u001b[0m\u001b[0mclose\u001b[0m\u001b[1;33m(\u001b[0m\u001b[1;33m)\u001b[0m\u001b[1;33m\u001b[0m\u001b[0m\n\u001b[1;32m---> 11\u001b[1;33m     \u001b[0mplt\u001b[0m\u001b[1;33m.\u001b[0m\u001b[0mbar\u001b[0m\u001b[1;33m(\u001b[0m\u001b[0mrange\u001b[0m\u001b[1;33m(\u001b[0m\u001b[0mn\u001b[0m\u001b[1;33m+\u001b[0m\u001b[1;36m1\u001b[0m\u001b[1;33m)\u001b[0m\u001b[1;33m,\u001b[0m \u001b[0mprobs\u001b[0m\u001b[1;33m)\u001b[0m\u001b[1;33m\u001b[0m\u001b[0m\n\u001b[0m\u001b[0;32m     12\u001b[0m     \u001b[0mplt\u001b[0m\u001b[1;33m.\u001b[0m\u001b[0mshow\u001b[0m\u001b[1;33m(\u001b[0m\u001b[1;33m)\u001b[0m\u001b[1;33m\u001b[0m\u001b[0m\n\u001b[0;32m     13\u001b[0m \u001b[1;33m\u001b[0m\u001b[0m\n",
          "\u001b[1;31mNameError\u001b[0m: name 'probs' is not defined"
         ]
        }
       ]
      }
     },
     "fb883ab64eeb4dffbaad079ea447656d": {
      "model_module": "@jupyter-widgets/base",
      "model_module_version": "1.0.0",
      "model_name": "LayoutModel",
      "state": {}
     },
     "fe6303e026f0447c8e2b1f802d8c1918": {
      "model_module": "@jupyter-widgets/controls",
      "model_module_version": "1.0.0",
      "model_name": "SliderStyleModel",
      "state": {
       "description_width": ""
      }
     },
     "fffa8fc210004395b6ca32c11c8a3de0": {
      "model_module": "@jupyter-widgets/base",
      "model_module_version": "1.0.0",
      "model_name": "LayoutModel",
      "state": {}
     }
    },
    "version_major": 2,
    "version_minor": 0
   }
  }
 },
 "nbformat": 4,
 "nbformat_minor": 2
}
