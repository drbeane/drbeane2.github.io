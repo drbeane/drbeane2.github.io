{
 "cells": [
  {
   "cell_type": "markdown",
   "metadata": {},
   "source": [
    "# Static Interactive Notebook\n",
    "\n",
    "This notebook shows a few examples of what's possible with the static widgets"
   ]
  },
  {
   "cell_type": "markdown",
   "metadata": {},
   "source": [
    "## Example 1: Simple Text output"
   ]
  },
  {
   "cell_type": "code",
   "execution_count": 1,
   "metadata": {},
   "outputs": [
    {
     "ename": "ImportError",
     "evalue": "cannot import name 'StaticInteract'",
     "output_type": "error",
     "traceback": [
      "\u001b[1;31m---------------------------------------------------------------------------\u001b[0m",
      "\u001b[1;31mImportError\u001b[0m                               Traceback (most recent call last)",
      "\u001b[1;32m<ipython-input-1-21ed00213b58>\u001b[0m in \u001b[0;36m<module>\u001b[1;34m()\u001b[0m\n\u001b[1;32m----> 1\u001b[1;33m \u001b[1;32mfrom\u001b[0m \u001b[0mipywidgets\u001b[0m \u001b[1;32mimport\u001b[0m \u001b[0mStaticInteract\u001b[0m\u001b[1;33m,\u001b[0m \u001b[0mRangeWidget\u001b[0m\u001b[1;33m,\u001b[0m \u001b[0mRadioWidget\u001b[0m\u001b[1;33m\u001b[0m\u001b[0m\n\u001b[0m\u001b[0;32m      2\u001b[0m \u001b[1;33m\u001b[0m\u001b[0m\n\u001b[0;32m      3\u001b[0m \u001b[1;32mdef\u001b[0m \u001b[0mmultiply\u001b[0m\u001b[1;33m(\u001b[0m\u001b[0ma\u001b[0m\u001b[1;33m,\u001b[0m \u001b[0mb\u001b[0m\u001b[1;33m)\u001b[0m\u001b[1;33m:\u001b[0m\u001b[1;33m\u001b[0m\u001b[0m\n\u001b[0;32m      4\u001b[0m     \u001b[1;32mreturn\u001b[0m \u001b[1;34m\"{0} * {1} = {2}\"\u001b[0m\u001b[1;33m.\u001b[0m\u001b[0mformat\u001b[0m\u001b[1;33m(\u001b[0m\u001b[0ma\u001b[0m\u001b[1;33m,\u001b[0m \u001b[0mb\u001b[0m\u001b[1;33m,\u001b[0m \u001b[0ma\u001b[0m \u001b[1;33m*\u001b[0m \u001b[0mb\u001b[0m\u001b[1;33m)\u001b[0m\u001b[1;33m\u001b[0m\u001b[0m\n\u001b[0;32m      5\u001b[0m \u001b[1;33m\u001b[0m\u001b[0m\n",
      "\u001b[1;31mImportError\u001b[0m: cannot import name 'StaticInteract'"
     ]
    }
   ],
   "source": [
    "from ipywidgets import StaticInteract, RangeWidget, RadioWidget\n",
    "\n",
    "def multiply(a, b):\n",
    "    return \"{0} * {1} = {2}\".format(a, b, a * b)\n",
    "\n",
    "StaticInteract(multiply,\n",
    "               a=RangeWidget(0, 10),\n",
    "               b=RangeWidget(0, 10),)"
   ]
  },
  {
   "cell_type": "markdown",
   "metadata": {},
   "source": [
    "## Example 2: Text Output with Multiple Widgets"
   ]
  },
  {
   "cell_type": "code",
   "execution_count": null,
   "metadata": {},
   "outputs": [],
   "source": [
    "from ipywidgets import StaticInteract, RangeWidget, RadioWidget, DropDownWidget\n",
    "\n",
    "def operation(a, b, op, fruit):\n",
    "    if op == \"multiply\":\n",
    "        return \"{0} * {1} = {2} {3}\".format(a, b, a * b, fruit)\n",
    "    elif op == \"add\":\n",
    "        return \"{0} + {1} = {2} {3}\".format(a, b, a + b, fruit)\n",
    "    else:\n",
    "        raise ValueError\n",
    "\n",
    "StaticInteract(operation,\n",
    "               a=RangeWidget(0, 10),\n",
    "               b=RangeWidget(0, 10),\n",
    "               op=RadioWidget([\"multiply\", \"add\"]),\n",
    "               fruit=DropDownWidget(['apples','bananas','pears','kiwis'])\n",
    "               )"
   ]
  },
  {
   "cell_type": "markdown",
   "metadata": {},
   "source": [
    "## Example 3: Sympy Factoring"
   ]
  },
  {
   "cell_type": "code",
   "execution_count": null,
   "metadata": {},
   "outputs": [],
   "source": [
    "from sympy import init_printing\n",
    "init_printing()"
   ]
  },
  {
   "cell_type": "code",
   "execution_count": null,
   "metadata": {},
   "outputs": [],
   "source": [
    "from sympy import Symbol, Eq, factor\n",
    "x = Symbol('x')\n",
    "def factorit(n):\n",
    "    return Eq(x ** n - 1, factor(x ** n - 1))\n",
    "factorit(4)"
   ]
  },
  {
   "cell_type": "code",
   "execution_count": null,
   "metadata": {},
   "outputs": [],
   "source": [
    "from ipywidgets import StaticInteract, RangeWidget\n",
    "\n",
    "StaticInteract(factorit,\n",
    "               n=RangeWidget(2, 10))"
   ]
  },
  {
   "cell_type": "markdown",
   "metadata": {},
   "source": [
    "## Example 4: Matplotlib Figures"
   ]
  },
  {
   "cell_type": "code",
   "execution_count": null,
   "metadata": {},
   "outputs": [],
   "source": [
    "%matplotlib inline\n",
    "import numpy as np\n",
    "import matplotlib.pyplot as plt\n",
    "\n",
    "from ipywidgets import StaticInteract, RangeWidget, RadioWidget\n",
    "\n",
    "def plot(amplitude, color):\n",
    "    fig, ax = plt.subplots(figsize=(4, 3),\n",
    "                           subplot_kw={'axisbg':'#EEEEEE',\n",
    "                                       'axisbelow':True})\n",
    "    ax.grid(color='w', linewidth=2, linestyle='solid')\n",
    "    x = np.linspace(0, 10, 1000)\n",
    "    ax.plot(x, amplitude * np.sin(x), color=color,\n",
    "            lw=5, alpha=0.4)\n",
    "    ax.set_xlim(0, 10)\n",
    "    ax.set_ylim(-1.1, 1.1)\n",
    "    return fig\n",
    "\n",
    "StaticInteract(plot,\n",
    "               amplitude=RangeWidget(0.1, 1.0, 0.1),\n",
    "               color=RadioWidget(['blue', 'green', 'red']))"
   ]
  },
  {
   "cell_type": "code",
   "execution_count": null,
   "metadata": {},
   "outputs": [],
   "source": []
  }
 ],
 "metadata": {
  "kernelspec": {
   "display_name": "Python 3",
   "language": "python",
   "name": "python3"
  },
  "language_info": {
   "codemirror_mode": {
    "name": "ipython",
    "version": 3
   },
   "file_extension": ".py",
   "mimetype": "text/x-python",
   "name": "python",
   "nbconvert_exporter": "python",
   "pygments_lexer": "ipython3",
   "version": "3.6.2"
  }
 },
 "nbformat": 4,
 "nbformat_minor": 1
}
