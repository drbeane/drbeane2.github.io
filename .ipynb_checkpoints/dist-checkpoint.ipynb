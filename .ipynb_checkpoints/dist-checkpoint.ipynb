{
 "cells": [
  {
   "cell_type": "markdown",
   "metadata": {},
   "source": [
    "## Binomial Distribution"
   ]
  },
  {
   "cell_type": "markdown",
   "metadata": {},
   "source": [
    "## Geometric Distribution"
   ]
  },
  {
   "cell_type": "code",
   "execution_count": 1,
   "metadata": {
    "collapsed": true
   },
   "outputs": [],
   "source": [
    "import numpy as np\n",
    "import ipywidgets as widgets\n",
    "import matplotlib.pyplot as plt\n",
    "from scipy.stats import gamma\n"
   ]
  },
  {
   "cell_type": "code",
   "execution_count": 2,
   "metadata": {},
   "outputs": [
    {
     "data": {
      "application/vnd.jupyter.widget-view+json": {
       "model_id": "480db1bc4da84f8eaeb785cdca125793",
       "version_major": 2,
       "version_minor": 0
      },
      "text/plain": [
       "A Jupyter Widget"
      ]
     },
     "metadata": {},
     "output_type": "display_data"
    }
   ],
   "source": [
    "\n",
    "\n",
    "def gamma_dist(a, b):\n",
    "    \n",
    "    x = np.linspace(0,10,100)\n",
    "    y = gamma.pdf(x, a=a, scale=b,)\n",
    "    \n",
    "    plt.close()\n",
    "    plt.ylim([0,1])\n",
    "    plt.plot(x,y)\n",
    "    plt.show()\n",
    "\n",
    "    \n",
    "#    grades = np.random.choice(['A','B','C','D','F'],size=37,p=[0.25,0.3,0.2,0.15,0.1])\n",
    "#    grade_dist = [sum(grades == 'A'), sum(grades == 'B'), sum(grades == 'C'), sum(grades == 'D'), sum(grades == 'F')]\n",
    "#    \n",
    "#    grade_labels = ['A','B','C','D','F']\n",
    "#    \n",
    "#    plt.close()\n",
    "#    plt.bar(range(5), grade_dist)\n",
    "#    \n",
    "#    plt.xlabel('Grades')\n",
    "#    plt.xticks([0,1,2,3,4], grade_labels)\n",
    "#    plt.ylabel('Count')\n",
    "#    plt.title('Grade Distribution')\n",
    "#    plt.show()\n",
    "\n",
    "_ = widgets.interact(gamma_dist,\n",
    "                     a=widgets.FloatSlider(min=0.25,max=10,step=0.25,value=1,continuous_update=False),\n",
    "                     b=widgets.FloatSlider(min=0.25,max=4,step=0.05,value=1,continuous_update=False))"
   ]
  },
  {
   "cell_type": "code",
   "execution_count": null,
   "metadata": {
    "collapsed": true
   },
   "outputs": [],
   "source": []
  }
 ],
 "metadata": {
  "kernelspec": {
   "display_name": "Python 3",
   "language": "python",
   "name": "python3"
  },
  "language_info": {
   "codemirror_mode": {
    "name": "ipython",
    "version": 3
   },
   "file_extension": ".py",
   "mimetype": "text/x-python",
   "name": "python",
   "nbconvert_exporter": "python",
   "pygments_lexer": "ipython3",
   "version": "3.6.2"
  },
  "widgets": {
   "application/vnd.jupyter.widget-state+json": {
    "state": {
     "3a61a08cc67d4fdea7b12b55d13502e1": {
      "model_module": "@jupyter-widgets/controls",
      "model_module_version": "1.0.0",
      "model_name": "FloatSliderModel",
      "state": {
       "continuous_update": false,
       "description": "b",
       "layout": "IPY_MODEL_fee9d8b0c025489480f786a68dbb8b85",
       "max": 4,
       "min": 0.25,
       "step": 0.05,
       "style": "IPY_MODEL_9480784d3e6a4e1fa18fd7aa31ae78ca",
       "value": 1
      }
     },
     "480db1bc4da84f8eaeb785cdca125793": {
      "model_module": "@jupyter-widgets/controls",
      "model_module_version": "1.0.0",
      "model_name": "VBoxModel",
      "state": {
       "_dom_classes": [
        "widget-interact"
       ],
       "children": [
        "IPY_MODEL_ae66b413724a4a3399c1f12dee460927",
        "IPY_MODEL_3a61a08cc67d4fdea7b12b55d13502e1",
        "IPY_MODEL_4eeb13b2833d43dd88bdc21777b60d07"
       ],
       "layout": "IPY_MODEL_f5931099d8dc438b9ba5f1910d045d5d"
      }
     },
     "4eeb13b2833d43dd88bdc21777b60d07": {
      "model_module": "@jupyter-widgets/output",
      "model_module_version": "1.0.0",
      "model_name": "OutputModel",
      "state": {
       "layout": "IPY_MODEL_80600891e88145efb8e5a3a6203c2b7e",
       "outputs": [
        {
         "data": {
          "image/png": "iVBORw0KGgoAAAANSUhEUgAAAXcAAAD8CAYAAACMwORRAAAABHNCSVQICAgIfAhkiAAAAAlwSFlz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\n",
          "text/plain": "<matplotlib.figure.Figure at 0x23e44c20ef0>"
         },
         "metadata": {},
         "output_type": "display_data"
        }
       ]
      }
     },
     "80600891e88145efb8e5a3a6203c2b7e": {
      "model_module": "@jupyter-widgets/base",
      "model_module_version": "1.0.0",
      "model_name": "LayoutModel",
      "state": {}
     },
     "9480784d3e6a4e1fa18fd7aa31ae78ca": {
      "model_module": "@jupyter-widgets/controls",
      "model_module_version": "1.0.0",
      "model_name": "SliderStyleModel",
      "state": {
       "description_width": ""
      }
     },
     "ae66b413724a4a3399c1f12dee460927": {
      "model_module": "@jupyter-widgets/controls",
      "model_module_version": "1.0.0",
      "model_name": "FloatSliderModel",
      "state": {
       "continuous_update": false,
       "description": "a",
       "layout": "IPY_MODEL_ff68b9b4fe0e45848f91b9857a3b89e2",
       "max": 10,
       "min": 0.25,
       "step": 0.25,
       "style": "IPY_MODEL_d20479d71805463987791ecf9c641d21",
       "value": 1
      }
     },
     "d20479d71805463987791ecf9c641d21": {
      "model_module": "@jupyter-widgets/controls",
      "model_module_version": "1.0.0",
      "model_name": "SliderStyleModel",
      "state": {
       "description_width": ""
      }
     },
     "f5931099d8dc438b9ba5f1910d045d5d": {
      "model_module": "@jupyter-widgets/base",
      "model_module_version": "1.0.0",
      "model_name": "LayoutModel",
      "state": {}
     },
     "fee9d8b0c025489480f786a68dbb8b85": {
      "model_module": "@jupyter-widgets/base",
      "model_module_version": "1.0.0",
      "model_name": "LayoutModel",
      "state": {}
     },
     "ff68b9b4fe0e45848f91b9857a3b89e2": {
      "model_module": "@jupyter-widgets/base",
      "model_module_version": "1.0.0",
      "model_name": "LayoutModel",
      "state": {}
     }
    },
    "version_major": 2,
    "version_minor": 0
   }
  }
 },
 "nbformat": 4,
 "nbformat_minor": 2
}
