{
 "cells": [
  {
   "cell_type": "markdown",
   "metadata": {},
   "source": [
    "## Binomial Distribution"
   ]
  },
  {
   "cell_type": "code",
   "execution_count": 1,
   "metadata": {
    "scrolled": true
   },
   "outputs": [
    {
     "data": {
      "application/vnd.jupyter.widget-view+json": {
       "model_id": "576007bc463d40f79c7212818f35baff",
       "version_major": 2,
       "version_minor": 0
      },
      "text/plain": [
       "A Jupyter Widget"
      ]
     },
     "metadata": {},
     "output_type": "display_data"
    }
   ],
   "source": [
    "%run -i examples/binom_dist.py"
   ]
  },
  {
   "cell_type": "markdown",
   "metadata": {},
   "source": [
    "## Geometric Distribution"
   ]
  },
  {
   "cell_type": "code",
   "execution_count": 2,
   "metadata": {
    "scrolled": true
   },
   "outputs": [
    {
     "data": {
      "application/vnd.jupyter.widget-view+json": {
       "model_id": "e0fcd82166b74ddbaddae177aedc42ea",
       "version_major": 2,
       "version_minor": 0
      },
      "text/plain": [
       "A Jupyter Widget"
      ]
     },
     "metadata": {},
     "output_type": "display_data"
    }
   ],
   "source": [
    "%run -i examples/geom_dist.py"
   ]
  },
  {
   "cell_type": "code",
   "execution_count": 3,
   "metadata": {
    "collapsed": true
   },
   "outputs": [],
   "source": [
    "import numpy as np\n",
    "import ipywidgets as widgets\n",
    "import matplotlib.pyplot as plt\n",
    "from scipy.stats import gamma\n"
   ]
  },
  {
   "cell_type": "code",
   "execution_count": 4,
   "metadata": {},
   "outputs": [
    {
     "data": {
      "application/vnd.jupyter.widget-view+json": {
       "model_id": "72966388c8ba40448f5a4e4745203568",
       "version_major": 2,
       "version_minor": 0
      },
      "text/plain": [
       "A Jupyter Widget"
      ]
     },
     "metadata": {},
     "output_type": "display_data"
    }
   ],
   "source": [
    "\n",
    "\n",
    "def gamma_dist(a, b):\n",
    "    \n",
    "    x = np.linspace(0,10,100)\n",
    "    y = gamma.pdf(x, a=a, scale=b,)\n",
    "    \n",
    "    plt.close()\n",
    "    plt.ylim([0,1])\n",
    "    plt.plot(x,y)\n",
    "    plt.show()\n",
    "\n",
    "    \n",
    "#    grades = np.random.choice(['A','B','C','D','F'],size=37,p=[0.25,0.3,0.2,0.15,0.1])\n",
    "#    grade_dist = [sum(grades == 'A'), sum(grades == 'B'), sum(grades == 'C'), sum(grades == 'D'), sum(grades == 'F')]\n",
    "#    \n",
    "#    grade_labels = ['A','B','C','D','F']\n",
    "#    \n",
    "#    plt.close()\n",
    "#    plt.bar(range(5), grade_dist)\n",
    "#    \n",
    "#    plt.xlabel('Grades')\n",
    "#    plt.xticks([0,1,2,3,4], grade_labels)\n",
    "#    plt.ylabel('Count')\n",
    "#    plt.title('Grade Distribution')\n",
    "#    plt.show()\n",
    "\n",
    "_ = widgets.interact(gamma_dist,\n",
    "                     a=widgets.FloatSlider(min=0.25,max=10,step=0.25,value=1,continuous_update=False),\n",
    "                     b=widgets.FloatSlider(min=0.25,max=4,step=0.05,value=1,continuous_update=False))"
   ]
  },
  {
   "cell_type": "code",
   "execution_count": null,
   "metadata": {
    "collapsed": true
   },
   "outputs": [],
   "source": []
  }
 ],
 "metadata": {
  "kernelspec": {
   "display_name": "Python 3",
   "language": "python",
   "name": "python3"
  },
  "language_info": {
   "codemirror_mode": {
    "name": "ipython",
    "version": 3
   },
   "file_extension": ".py",
   "mimetype": "text/x-python",
   "name": "python",
   "nbconvert_exporter": "python",
   "pygments_lexer": "ipython3",
   "version": "3.6.2"
  },
  "widgets": {
   "application/vnd.jupyter.widget-state+json": {
    "state": {},
    "version_major": 2,
    "version_minor": 0
   }
  }
 },
 "nbformat": 4,
 "nbformat_minor": 2
}
