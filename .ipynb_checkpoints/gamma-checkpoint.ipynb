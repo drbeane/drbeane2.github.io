{
 "cells": [
  {
   "cell_type": "markdown",
   "metadata": {},
   "source": [
    "## Gamma Distribution"
   ]
  },
  {
   "cell_type": "code",
   "execution_count": 1,
   "metadata": {},
   "outputs": [
    {
     "data": {
      "application/vnd.jupyter.widget-view+json": {
       "model_id": "7cc1b79420954214a24fd2f2ca5f8247",
       "version_major": 2,
       "version_minor": 0
      },
      "text/plain": [
       "A Jupyter Widget"
      ]
     },
     "metadata": {},
     "output_type": "display_data"
    }
   ],
   "source": [
    "import numpy as np\n",
    "import ipywidgets as widgets\n",
    "import matplotlib.pyplot as plt\n",
    "from scipy.stats import gamma\n",
    "\n",
    "def gamma_dist(a, b):\n",
    "    \n",
    "    x = np.linspace(0,10,100)\n",
    "    y = gamma.pdf(x, a=a, scale=b,)\n",
    "    \n",
    "    plt.close()\n",
    "    plt.ylim([0,1])\n",
    "    plt.plot(x,y)\n",
    "    plt.show()\n",
    "\n",
    "_ = widgets.interact(gamma_dist,\n",
    "                     a=widgets.FloatSlider(min=0.25,max=10,step=0.25,value=1,continuous_update=False),\n",
    "                     b=widgets.FloatSlider(min=0.25,max=4,step=0.05,value=1,continuous_update=False))"
   ]
  }
 ],
 "metadata": {
  "kernelspec": {
   "display_name": "Python 3",
   "language": "python",
   "name": "python3"
  },
  "language_info": {
   "codemirror_mode": {
    "name": "ipython",
    "version": 3
   },
   "file_extension": ".py",
   "mimetype": "text/x-python",
   "name": "python",
   "nbconvert_exporter": "python",
   "pygments_lexer": "ipython3",
   "version": "3.6.2"
  },
  "widgets": {
   "application/vnd.jupyter.widget-state+json": {
    "state": {
     "0ee168b1e5724f6590bf77b74c983fee": {
      "model_module": "@jupyter-widgets/output",
      "model_module_version": "1.0.0",
      "model_name": "OutputModel",
      "state": {
       "layout": "IPY_MODEL_4178137249a1454d9a8d2f66a2b7ee2e",
       "outputs": [
        {
         "data": {
          "image/png": "iVBORw0KGgoAAAANSUhEUgAAAXcAAAD8CAYAAACMwORRAAAABHNCSVQICAgIfAhkiAAAAAlwSFlz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\n",
          "text/plain": "<matplotlib.figure.Figure at 0x28c939721d0>"
         },
         "metadata": {},
         "output_type": "display_data"
        }
       ]
      }
     },
     "13bed7ee7b904545b23de5f9bca637ca": {
      "model_module": "@jupyter-widgets/controls",
      "model_module_version": "1.0.0",
      "model_name": "FloatSliderModel",
      "state": {
       "continuous_update": false,
       "description": "a",
       "layout": "IPY_MODEL_518736cafd734f49b547cfb5a983c1bd",
       "max": 10,
       "min": 0.25,
       "step": 0.25,
       "style": "IPY_MODEL_b6e3d4ffa6534c2ab3fee37037eabc39",
       "value": 1
      }
     },
     "3754144939fb47ec938833849e292f4c": {
      "model_module": "@jupyter-widgets/base",
      "model_module_version": "1.0.0",
      "model_name": "LayoutModel",
      "state": {}
     },
     "4178137249a1454d9a8d2f66a2b7ee2e": {
      "model_module": "@jupyter-widgets/base",
      "model_module_version": "1.0.0",
      "model_name": "LayoutModel",
      "state": {}
     },
     "4dcc0064f59e4e52a9a6dc67203cb926": {
      "model_module": "@jupyter-widgets/base",
      "model_module_version": "1.0.0",
      "model_name": "LayoutModel",
      "state": {}
     },
     "5135b40188ae4e6d95cc79d6f8548b03": {
      "model_module": "@jupyter-widgets/base",
      "model_module_version": "1.0.0",
      "model_name": "LayoutModel",
      "state": {}
     },
     "518736cafd734f49b547cfb5a983c1bd": {
      "model_module": "@jupyter-widgets/base",
      "model_module_version": "1.0.0",
      "model_name": "LayoutModel",
      "state": {}
     },
     "55959031231742c8aae7fa27657ac6ac": {
      "model_module": "@jupyter-widgets/controls",
      "model_module_version": "1.0.0",
      "model_name": "FloatSliderModel",
      "state": {
       "continuous_update": false,
       "description": "a",
       "layout": "IPY_MODEL_6bf8c90f6d924b469ae72542aeaef4b2",
       "max": 10,
       "min": 0.25,
       "step": 0.25,
       "style": "IPY_MODEL_9d475a5bac1d410e8f5639cbed7b4a9d",
       "value": 3.25
      }
     },
     "6bf8c90f6d924b469ae72542aeaef4b2": {
      "model_module": "@jupyter-widgets/base",
      "model_module_version": "1.0.0",
      "model_name": "LayoutModel",
      "state": {}
     },
     "7cc1b79420954214a24fd2f2ca5f8247": {
      "model_module": "@jupyter-widgets/controls",
      "model_module_version": "1.0.0",
      "model_name": "VBoxModel",
      "state": {
       "_dom_classes": [
        "widget-interact"
       ],
       "children": [
        "IPY_MODEL_55959031231742c8aae7fa27657ac6ac",
        "IPY_MODEL_d035d26210ac47f7a46ebef4cadbc2c0",
        "IPY_MODEL_cb61f75de0af476fa2428acd96762059"
       ],
       "layout": "IPY_MODEL_5135b40188ae4e6d95cc79d6f8548b03"
      }
     },
     "7da87057a59d42c698a640059123cad6": {
      "model_module": "@jupyter-widgets/controls",
      "model_module_version": "1.0.0",
      "model_name": "SliderStyleModel",
      "state": {
       "description_width": ""
      }
     },
     "9d475a5bac1d410e8f5639cbed7b4a9d": {
      "model_module": "@jupyter-widgets/controls",
      "model_module_version": "1.0.0",
      "model_name": "SliderStyleModel",
      "state": {
       "description_width": ""
      }
     },
     "b6e3d4ffa6534c2ab3fee37037eabc39": {
      "model_module": "@jupyter-widgets/controls",
      "model_module_version": "1.0.0",
      "model_name": "SliderStyleModel",
      "state": {
       "description_width": ""
      }
     },
     "bae113ba93554a64b2061e8259350da1": {
      "model_module": "@jupyter-widgets/base",
      "model_module_version": "1.0.0",
      "model_name": "LayoutModel",
      "state": {}
     },
     "bed9ce1c1a824c888fc2a5d5dab49647": {
      "model_module": "@jupyter-widgets/base",
      "model_module_version": "1.0.0",
      "model_name": "LayoutModel",
      "state": {}
     },
     "c0ac6b8c27284616b59a41de4943de46": {
      "model_module": "@jupyter-widgets/controls",
      "model_module_version": "1.0.0",
      "model_name": "VBoxModel",
      "state": {
       "_dom_classes": [
        "widget-interact"
       ],
       "children": [
        "IPY_MODEL_13bed7ee7b904545b23de5f9bca637ca",
        "IPY_MODEL_eb49be478e504ae5b185c702464f589d",
        "IPY_MODEL_0ee168b1e5724f6590bf77b74c983fee"
       ],
       "layout": "IPY_MODEL_bed9ce1c1a824c888fc2a5d5dab49647"
      }
     },
     "cb61f75de0af476fa2428acd96762059": {
      "model_module": "@jupyter-widgets/output",
      "model_module_version": "1.0.0",
      "model_name": "OutputModel",
      "state": {
       "layout": "IPY_MODEL_3754144939fb47ec938833849e292f4c",
       "outputs": [
        {
         "data": {
          "image/png": "iVBORw0KGgoAAAANSUhEUgAAAXcAAAD8CAYAAACMwORRAAAABHNCSVQICAgIfAhkiAAAAAlwSFlz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\nGciHYQIRdtIAAAAASUVORK5CYII=\n",
          "text/plain": "<matplotlib.figure.Figure at 0x2bbc1f1b588>"
         },
         "metadata": {},
         "output_type": "display_data"
        }
       ]
      }
     },
     "d035d26210ac47f7a46ebef4cadbc2c0": {
      "model_module": "@jupyter-widgets/controls",
      "model_module_version": "1.0.0",
      "model_name": "FloatSliderModel",
      "state": {
       "continuous_update": false,
       "description": "b",
       "layout": "IPY_MODEL_bae113ba93554a64b2061e8259350da1",
       "max": 4,
       "min": 0.25,
       "step": 0.05,
       "style": "IPY_MODEL_7da87057a59d42c698a640059123cad6",
       "value": 1.6
      }
     },
     "eb49be478e504ae5b185c702464f589d": {
      "model_module": "@jupyter-widgets/controls",
      "model_module_version": "1.0.0",
      "model_name": "FloatSliderModel",
      "state": {
       "continuous_update": false,
       "description": "b",
       "layout": "IPY_MODEL_4dcc0064f59e4e52a9a6dc67203cb926",
       "max": 4,
       "min": 0.25,
       "step": 0.05,
       "style": "IPY_MODEL_ee1acb228e11447b858aa592b3c32d9d",
       "value": 1
      }
     },
     "ee1acb228e11447b858aa592b3c32d9d": {
      "model_module": "@jupyter-widgets/controls",
      "model_module_version": "1.0.0",
      "model_name": "SliderStyleModel",
      "state": {
       "description_width": ""
      }
     }
    },
    "version_major": 2,
    "version_minor": 0
   }
  }
 },
 "nbformat": 4,
 "nbformat_minor": 2
}
